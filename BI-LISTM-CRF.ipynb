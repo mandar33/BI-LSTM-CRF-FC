{
  "cells": [
    {
      "cell_type": "markdown",
      "metadata": {
        "id": "view-in-github",
        "colab_type": "text"
      },
      "source": [
        "<a href=\"https://colab.research.google.com/github/mandar33/BI-LSTM-CRF-FC/blob/main/BI-LISTM-CRF.ipynb\" target=\"_parent\"><img src=\"https://colab.research.google.com/assets/colab-badge.svg\" alt=\"Open In Colab\"/></a>"
      ]
    },
    {
      "cell_type": "code",
      "execution_count": 1,
      "metadata": {
        "id": "BQoZMdHRfW_x"
      },
      "outputs": [],
      "source": [
        "import torch\n",
        "import torch.nn as nn\n",
        "from torch.utils.data import Dataset,DataLoader\n",
        "import numpy as np\n",
        "import random\n",
        "import math\n",
        "from tqdm import tqdm\n",
        "import os\n",
        "import re\n",
        "import io\n"
      ]
    },
    {
      "cell_type": "code",
      "execution_count": 2,
      "metadata": {
        "id": "j_SZR0X6LUoV"
      },
      "outputs": [],
      "source": [
        "class dictionary():\n",
        "    def __init__(self):\n",
        "        self.word_freq={}\n",
        "        self.id2word={}\n",
        "        self.word2id={}\n",
        "    \n",
        "    def add_word(self,word):\n",
        "        if word in self.word_freq:\n",
        "            self.word_freq[word]+=1\n",
        "        else:\n",
        "            self.word_freq[word]=1\n",
        "        \n",
        "    def create_mapping(self):\n",
        "        self.word_freq['[PAD]']=1000001\n",
        "        self.word_freq['[UNK]']=1000000\n",
        "        c_unk=0\n",
        "        dic_items=[]\n",
        "        for k in self.word_freq.keys():\n",
        "            if self.word_freq[k]>1 or np.random.uniform()>0.5:\n",
        "                dic_items.append((k,self.word_freq[k]))\n",
        "            else:\n",
        "                c_unk+=1\n",
        "        ordered_lis=sorted( dic_items, key=lambda x: (-x[1],x[0]))\n",
        "        assert ordered_lis[0][0]=='[PAD]'\n",
        "        self.id2word=dict([(i,ordered_lis[i][0]) for i in range(len(ordered_lis))])\n",
        "        self.word2id=dict([(ordered_lis[i][0],i) for i in range(len(ordered_lis))])\n",
        "        self.ordered_lis=ordered_lis\n",
        "        return c_unk\n",
        "\n",
        "    def get_id(self,word):\n",
        "        if word in self.word2id:\n",
        "            return self.word2id[word]\n",
        "        else:\n",
        "            return 1\n",
        "    \n",
        "    def get_word(self,idx):\n",
        "        return self.id2word[idx]\n",
        "    \n",
        "    def get_len(self):\n",
        "        return len(self.id2word)"
      ]
    },
    {
      "cell_type": "code",
      "execution_count": 2,
      "metadata": {
        "id": "wbxxflzpUrhn"
      },
      "outputs": [],
      "source": [
        ""
      ]
    },
    {
      "cell_type": "code",
      "execution_count": 3,
      "metadata": {
        "id": "CmEiiZzvLZ3r"
      },
      "outputs": [],
      "source": [
        "class I2B2DatasetReader(Dataset):\n",
        "    def __init__(self,data_path,dic_word,dic_char,training=False):\n",
        "        super(I2B2DatasetReader,self).__init__()\n",
        "        f=open(data_path,encoding='utf-8')\n",
        "        X=[[]]\n",
        "        Y=[[]]\n",
        "\n",
        "        line=f.readline()\n",
        "        self.label_map=[\"O\",\"B-problem\",\"I-problem\",\"B-test\",\"I-test\",\"B-treatment\",\"I-treatment\",\"B-MISC\",\"I-MISC\"]\n",
        "        self.label_num=len(self.label_map)\n",
        "\n",
        "        while line:\n",
        "            if line=='\\n':\n",
        "                if len(X[-1])>0:\n",
        "                    X.append([])\n",
        "                    Y.append([])\n",
        "            else:\n",
        "                word,ner=line.split()\n",
        "                assert ner in self.label_map\n",
        "                word=re.sub('\\d','0',word)      #replace all the digits with 0, this helps\n",
        "                X[-1].append(word)\n",
        "                Y[-1].append(self.label_map.index(ner))\n",
        "            line=f.readline()\n",
        "                \n",
        "        f.close()\n",
        "        if len(X[-1])==0:\n",
        "            X=X[:-1]\n",
        "            Y=Y[:-1]\n",
        "\n",
        "        self.label=Y\n",
        "        self.data_num=len(X)\n",
        "\n",
        "        #get word dictionary\n",
        "        if training:\n",
        "            dic_word=dictionary()\n",
        "            for sentence in X:\n",
        "                for word in sentence:\n",
        "                    dic_word.add_word(word)\n",
        "            dic_word.create_mapping()\n",
        "\n",
        "        #get word_ids: list of lists\n",
        "        #encode words str->id\n",
        "        self.word_ids=[]\n",
        "        for i in range(len(X)):\n",
        "            self.word_ids.append(list(map(lambda x:dic_word.get_id(x), X[i])))\n",
        "\n",
        "        #get character dictionary\n",
        "        if training:\n",
        "            dic_char=dictionary()\n",
        "            for sentence in X:\n",
        "                text=''.join(sentence)\n",
        "                for char in text:\n",
        "                    dic_char.add_word(char)\n",
        "            dic_char.create_mapping()\n",
        "\n",
        "        #get char_ids: list of lists of lists\n",
        "        self.char_ids=[]\n",
        "        for sentence in X:\n",
        "            s=[]\n",
        "            for word in sentence:\n",
        "                s.append(list(map(lambda x:dic_char.get_id(x), word)))\n",
        "            self.char_ids.append(s)\n",
        "\n",
        "        self.dic_word=dic_word\n",
        "        self.dic_char=dic_char\n",
        "\n",
        "    def __getitem__(self,index):\n",
        "        return self.word_ids[index],self.char_ids[index],self.label[index]\n",
        "\n",
        "    def __len__(self):\n",
        "        return self.data_num\n",
        "     \n",
        "\n"
      ]
    },
    {
      "cell_type": "code",
      "execution_count": 4,
      "metadata": {
        "id": "yY9jjDUBLfnj"
      },
      "outputs": [],
      "source": [
        "def augment_vocab(dictionary,embedding_path,paths):\n",
        "            f=open(embedding_path,encoding=\"utf-8\")\n",
        "            line=f.readline()\n",
        "            word2emb={}\n",
        "            while line:\n",
        "                line=line.split()\n",
        "                word2emb[line[0]]=torch.from_numpy(np.array(line[1:],dtype=np.str).astype(np.float))\n",
        "                line=f.readline()\n",
        "\n",
        "            words=[]\n",
        "            for data_path in paths:\n",
        "                f=open(data_path,encoding='utf-8')\n",
        "                line=f.readline()\n",
        "                while line:\n",
        "                    if line=='\\n':\n",
        "                        pass\n",
        "                    else:\n",
        "                        word=line.split()[0]\n",
        "                        words.append(word)\n",
        "                    line=f.readline()\n",
        "                f.close()\n",
        "\n",
        "            train_len=dictionary.get_len()\n",
        "            for word in words:\n",
        "                if word not in dictionary.word2id and any([x in word2emb for x in [word,word.lower(),re.sub('\\d','0',word.lower())]]):\n",
        "                    dictionary.word2id[word]=dictionary.get_len()\n",
        "                    dictionary.id2word[dictionary.get_len()]=word\n",
        "                    dictionary.ordered_lis.append((word,0))\n",
        "            num_add=dictionary.get_len()-train_len\n",
        "            print(\"original word num: %d  expand num: %d\"%(train_len,num_add)) \n",
        "            return dictionary,word2emb\n",
        "\n",
        "def collate_batch(batch):\n",
        "            #input is a list of tuples\n",
        "            word_num=list(map(lambda x:len(x[0]),batch))\n",
        "            max_word_num=max(word_num)\n",
        "            word_ids=list(map(lambda x:x[0]+[0]*(max_word_num-len(x[0])),batch))\n",
        "            label_ids=list(map(lambda x:x[2]+[0]*(max_word_num-len(x[2])),batch))\n",
        "\n",
        "            max_word_length=max(list(map(lambda x:max([len(i) for i in x[1]]),batch)))\n",
        "            char_ids=[]\n",
        "            for tuple in batch:\n",
        "                s=[]\n",
        "                for word in tuple[1]:\n",
        "                    s.append(word+[0]*(max_word_length-len(word)))\n",
        "                s=s+[[0]*max_word_length for i in range((max_word_num-len(s)))]\n",
        "                char_ids.append(s)\n",
        "\n",
        "            word_num=torch.LongTensor(word_num)\n",
        "            word_ids=torch.LongTensor(word_ids)\n",
        "            char_ids=torch.LongTensor(char_ids)\n",
        "            label_ids=torch.LongTensor(label_ids)\n",
        "\n",
        "            return word_num,word_ids,char_ids,label_ids\n",
        "\n",
        "def forward_alg(observation,transition,word_num):\n",
        "\n",
        "            def log_sum_exp(matrix,dim):\n",
        "                maximum,_=matrix.max(dim=dim,keepdim=True)  #to avoid NaN\n",
        "                return (maximum+torch.log(torch.exp(matrix-maximum).sum(dim=dim,keepdim=True))).squeeze(1)\n",
        "\n",
        "            observation=observation.transpose(1,2)\n",
        "            transition=transition.unsqueeze(0).expand(observation.size(0),-1,-1)\n",
        "            alpha=torch.zeros_like(observation)\n",
        "            alpha[:,:,0:1]=observation[:,:,0:1]\n",
        "            for i in range(1,observation.size(2)):\n",
        "                alpha[:,:,i:i+1]=(observation[:,:,i]+log_sum_exp(alpha[:,:,i-1:i]+transition,dim=1)).unsqueeze(2)\n",
        "            end_label=alpha[:,10,1:]     #(batch_size, sequence_len)\n",
        "            return end_label.gather(1,word_num.unsqueeze(1)).squeeze(1)\n",
        "\n",
        "def list_batch(pred,word_num,word_ids,label_ids,dic_word,label_map):\n",
        "    pred=pred.tolist()\n",
        "    word_num=word_num.tolist()\n",
        "    label_ids=label_ids.tolist()\n",
        "    word_ids=word_ids.tolist()\n",
        "\n",
        "    outputs=[]\n",
        "    for i in range(len(word_num)):\n",
        "        seq_len=word_num[i]\n",
        "        prediction=pred[i][:seq_len]\n",
        "        target=label_ids[i][:seq_len]\n",
        "        words=word_ids[i][:seq_len]\n",
        "        prediction=list(map(lambda x: label_map[x], prediction))\n",
        "        target=list(map(lambda x: label_map[x], target))\n",
        "        words=list(map(lambda x: dic_word.get_word(x), words))\n",
        "        for j in range(seq_len):\n",
        "            outputs.append(' '.join([words[j],target[j],prediction[j]]))\n",
        "        outputs.append('')\n",
        "    \n",
        "    return outputs  "
      ]
    },
    {
      "cell_type": "code",
      "execution_count": 5,
      "metadata": {
        "id": "2pxPf4PxaxaA"
      },
      "outputs": [],
      "source": [
        "class LSTM_CRF(nn.Module):\n",
        "    def __init__(self,word2emb,dic_word,dic_char):\n",
        "        super(LSTM_CRF, self).__init__()\n",
        "        word_emb_dim=300\n",
        "        word_lstm_dim=300\n",
        "        char_emb_dim=25\n",
        "        char_lstm_dim=25\n",
        "        label_num=9\n",
        "        dropout_rate=0.4\n",
        "            \n",
        "        word_emb=nn.Embedding(dic_word.get_len(),word_emb_dim,padding_idx=0)\n",
        "        for i in range(dic_word.get_len()):\n",
        "            word=dic_word.ordered_lis[i][0]\n",
        "            if word in word2emb:\n",
        "                word_emb.weight.data[i]=word2emb[word]\n",
        "            elif word.lower() in word2emb:\n",
        "                word_emb.weight.data[i]=word2emb[word.lower()]\n",
        "            elif re.sub('\\d','0',word.lower()) in word2emb:\n",
        "                word_emb.weight.data[i]=word2emb[re.sub('\\d','0',word.lower())]\n",
        "        #print(word_emb.weight.data[0])\n",
        "\n",
        "\n",
        "        char_emb=nn.Embedding(dic_char.get_len(),char_emb_dim,padding_idx=0)\n",
        "\n",
        "        self.char_emb=char_emb\n",
        "        self.char_lstm=nn.LSTM(char_emb_dim,char_lstm_dim,batch_first=True,bidirectional=True)\n",
        "        self.word_emb=word_emb\n",
        "        self.dropout=nn.Dropout(dropout_rate)\n",
        "        self.word_lstm=nn.LSTM(word_emb_dim+char_lstm_dim*2, word_lstm_dim,batch_first=True,bidirectional=True)      \n",
        "        self.fc=  nn.Linear((word_emb_dim)*2,label_num)\n",
        "\n",
        "        #crf\n",
        "        self.transition=nn.Parameter(torch.full((label_num+2,label_num+2),math.log(1/label_num)))\n",
        "        \n",
        "        self.char_lstm_dim=char_lstm_dim\n",
        "        self.char_emb_dim=char_emb_dim\n",
        "        self.word_lstm_dim=word_lstm_dim\n",
        "        self.word_emb_dim=word_emb_dim\n",
        "        self.label_num=label_num\n",
        "        \n",
        "    def get_feature(self,word_num,word_ids,char_ids):\n",
        "        batch_size=word_ids.size(0)\n",
        "        sequence_len=word_ids.size(1)\n",
        "        char_input=self.char_emb(char_ids)\n",
        "        #print(char_input.size())    #4 dimensional\n",
        "        char_emb_dim=char_input.size(3)\n",
        "        word_len=char_input.size(2)\n",
        "        char_input=char_input.view(batch_size*sequence_len,word_len,char_emb_dim)\n",
        "        char_hidden,_=self.char_lstm(char_input)    #second output \"_\" is equal to char_output below\n",
        "        forward_=char_hidden[:,-1,:self.char_lstm_dim]\n",
        "        backward_=char_hidden[:,0,self.char_lstm_dim:]\n",
        "        char_output=torch.cat((forward_,backward_),dim=-1)\n",
        "        char_output=char_output.view(batch_size,sequence_len,self.char_lstm_dim*2)\n",
        "\n",
        "        index=torch.LongTensor(list(range(sequence_len))).cuda().unsqueeze(0).expand(batch_size,sequence_len)\n",
        "        condition=word_num.unsqueeze(1).expand(batch_size,sequence_len)>index\n",
        "        mask=torch.where(condition,torch.ones(1,).cuda(),torch.zeros(1,).cuda()).unsqueeze(2)\n",
        "        char_output*=mask   #to mask all the padding tokens\n",
        "\n",
        "        word_feature=self.word_emb(word_ids)\n",
        "        word_feature=torch.cat((word_feature,char_output),dim=-1)\n",
        "        word_feature=self.dropout(word_feature)\n",
        "        word_feature,_=self.word_lstm(word_feature)\n",
        "\n",
        "        #word_feature=self.hidden(word_feature)\n",
        "        word_feature = self.fc(word_feature)\n",
        "        \n",
        "        word_feature*=mask\n",
        "      \n",
        "        return word_feature,mask\n",
        "    \n",
        "    def forward(self,word_num,word_ids,char_ids,label_ids):    \n",
        "        batch_size=word_ids.size(0)\n",
        "        sequence_len=word_ids.size(1)\n",
        "        word_feature,mask=self.get_feature(word_num,word_ids,char_ids)\n",
        "        \n",
        "        #compute numerator: the score of target label sequence\n",
        "        numerator=word_feature.gather(2,label_ids.unsqueeze(2)).squeeze(2).sum(dim=1)\n",
        "        #print(numerator.size())\n",
        "        padded_label=torch.cat((torch.full((batch_size,1),9,dtype=torch.long).cuda(), label_ids), dim=1)\n",
        "\n",
        "        #print(self.transition[(padded_label[:,:-1],padded_label[:,1:])].size()) \n",
        "        #a tensor can be indexed by several LongTensors or lists, each of them corresponds with an axis\n",
        "        trans_score=self.transition[(padded_label[:,:-1],padded_label[:,1:])]   #size(batch_size,sequence_len)\n",
        "        trans_score*=mask.squeeze(2)\n",
        "        numerator+=trans_score.sum(dim=1)\n",
        "        last_label=(padded_label.gather(1,word_num.unsqueeze(1))).squeeze()\n",
        "        numerator+=self.transition[(last_label,torch.full((batch_size,),10,dtype=torch.long).cuda())]\n",
        "        \n",
        "        #prepare observation matrix\n",
        "        small=-1000\n",
        "        se_label=torch.full((batch_size,sequence_len,2),small,dtype=torch.float).cuda()*mask\n",
        "        observation=torch.cat((word_feature,se_label),dim=2)\n",
        "        observation=torch.cat((torch.full((batch_size,1,self.label_num+2),small,dtype=torch.float).cuda(),\n",
        "                                observation,\n",
        "                                torch.full((batch_size,1,self.label_num+2),small,dtype=torch.float).cuda()),dim=1)\n",
        "        \n",
        "       \n",
        "      \n",
        "\n",
        "        observation[:,0,9]=0\n",
        "        observation[:,-1,10]=0\n",
        "\n",
        "        denominator=forward_alg(observation,self.transition,word_num)   #the score of all the label sequences\n",
        "        loss=-(numerator-denominator)\n",
        "\n",
        "        return torch.mean(loss)\n",
        "    \n",
        "    def decode(self,word_num,word_ids,char_ids):\n",
        "        batch_size=word_ids.size(0)\n",
        "        sequence_len=word_ids.size(1)\n",
        "        word_feature,mask=self.get_feature(word_num,word_ids,char_ids)\n",
        "\n",
        "        index=torch.LongTensor(list(range(sequence_len))).cuda().unsqueeze(0).expand(batch_size,sequence_len)\n",
        "        condition=word_num.unsqueeze(1).expand(batch_size,sequence_len)==index\n",
        "        end_mask=torch.where(condition,torch.ones(1,).cuda(),torch.zeros(1,).cuda()).unsqueeze(2)\n",
        "\n",
        "        small=-1000\n",
        "        constrain=torch.full((batch_size,sequence_len,self.label_num+2),small,dtype=torch.float).cuda()*end_mask\n",
        "        constrain[:,:,10]=0         #tensor \"constrain\" is used to make sure all the paths finish at [END] state\n",
        "\n",
        "        se_label=torch.full((batch_size,sequence_len,2),small,dtype=torch.float).cuda()*mask    #correspond with Start and End label\n",
        "        observation=torch.cat((word_feature,se_label),dim=2)\n",
        "        observation+=constrain\n",
        "        observation=torch.cat((torch.full((batch_size,1,self.label_num+2),small,dtype=torch.float).cuda(),\n",
        "                                observation,\n",
        "                                torch.full((batch_size,1,self.label_num+2),small,dtype=torch.float).cuda()),dim=1)\n",
        "        observation[:,0,9]=0\n",
        "        observation[:,-1,10]=0\n",
        "        \n",
        "        #viterbi\n",
        "        observation=observation.transpose(1,2)\n",
        "        path=torch.zeros_like(observation).long().cuda()\n",
        "        transition=self.transition.unsqueeze(0).expand(batch_size,-1,-1)\n",
        "        z=observation[:,:,0:1]\n",
        "        for i in range(1,observation.size(2)):\n",
        "            values,indices=(z+transition).max(dim=1)\n",
        "            path[:,:,i]=indices\n",
        "            values+=observation[:,:,i]\n",
        "            z=values.unsqueeze(2)\n",
        "\n",
        "        last=path[:,10,-1:]\n",
        "        pred=last\n",
        "        for i in range(path.size(2)-2,1,-1):\n",
        "            last=path[:,:,i].gather(1,last)\n",
        "            pred=torch.cat((last,pred),dim=1)   \n",
        "        \n",
        "        #pred size: batch_size,sequence_len\n",
        "        #print(pred.size())\n",
        "\n",
        "        #validation     this step is unnecessary, just make sure there is nothing wrong\n",
        "        pred_=torch.cat((pred,torch.full((batch_size,1),10,dtype=torch.long).cuda()),dim=1)\n",
        "        condition=pred_.gather(1,word_num.unsqueeze(1)).squeeze(1)==10\n",
        "        assert condition.size(0)==(condition.sum().item())\n",
        "        #print(\"validation passed\")\n",
        "\n",
        "        return pred\n"
      ]
    },
    {
      "cell_type": "code",
      "execution_count": 6,
      "metadata": {
        "colab": {
          "base_uri": "https://localhost:8080/"
        },
        "id": "GljQpo2xMIMt",
        "outputId": "5a69ca9f-7bc2-4f0c-9dce-a46317fb2fc8"
      },
      "outputs": [
        {
          "output_type": "stream",
          "name": "stdout",
          "text": [
            "Collecting conlleval\n",
            "  Downloading conlleval-0.2-py3-none-any.whl (5.4 kB)\n",
            "Installing collected packages: conlleval\n",
            "Successfully installed conlleval-0.2\n"
          ]
        }
      ],
      "source": [
        "pip install conlleval"
      ]
    },
    {
      "cell_type": "code",
      "execution_count": 7,
      "metadata": {
        "colab": {
          "base_uri": "https://localhost:8080/",
          "height": 1000
        },
        "id": "oNTctkV9UudH",
        "outputId": "7f8bd01f-de9d-463e-8f4a-4cc0f6ba491d"
      },
      "outputs": [
        {
          "output_type": "stream",
          "name": "stderr",
          "text": [
            "/usr/local/lib/python3.7/dist-packages/ipykernel_launcher.py:7: DeprecationWarning: `np.str` is a deprecated alias for the builtin `str`. To silence this warning, use `str` by itself. Doing this will not modify any behavior and is safe. If you specifically wanted the numpy scalar type, use `np.str_` here.\n",
            "Deprecated in NumPy 1.20; for more details and guidance: https://numpy.org/devdocs/release/1.20.0-notes.html#deprecations\n",
            "  import sys\n",
            "/usr/local/lib/python3.7/dist-packages/ipykernel_launcher.py:7: DeprecationWarning: `np.float` is a deprecated alias for the builtin `float`. To silence this warning, use `float` by itself. Doing this will not modify any behavior and is safe. If you specifically wanted the numpy scalar type, use `np.float64` here.\n",
            "Deprecated in NumPy 1.20; for more details and guidance: https://numpy.org/devdocs/release/1.20.0-notes.html#deprecations\n",
            "  import sys\n"
          ]
        },
        {
          "output_type": "stream",
          "name": "stdout",
          "text": [
            "original word num: 7691  expand num: 1048\n"
          ]
        },
        {
          "output_type": "stream",
          "name": "stderr",
          "text": [
            "100%|██████████| 183/183 [00:08<00:00, 20.94it/s]\n"
          ]
        },
        {
          "output_type": "stream",
          "name": "stdout",
          "text": [
            "epoch 0:  mean loss: 5.8402  f1 score: 49.18  best: 49.18\n"
          ]
        },
        {
          "output_type": "stream",
          "name": "stderr",
          "text": [
            "100%|██████████| 183/183 [00:08<00:00, 21.69it/s]\n"
          ]
        },
        {
          "output_type": "stream",
          "name": "stdout",
          "text": [
            "epoch 1:  mean loss: 2.9054  f1 score: 59.99  best: 59.99\n"
          ]
        },
        {
          "output_type": "stream",
          "name": "stderr",
          "text": [
            "100%|██████████| 183/183 [00:08<00:00, 21.34it/s]\n"
          ]
        },
        {
          "output_type": "stream",
          "name": "stdout",
          "text": [
            "epoch 2:  mean loss: 2.0184  f1 score: 67.08  best: 67.08\n"
          ]
        },
        {
          "output_type": "stream",
          "name": "stderr",
          "text": [
            "100%|██████████| 183/183 [00:08<00:00, 21.71it/s]\n"
          ]
        },
        {
          "output_type": "stream",
          "name": "stdout",
          "text": [
            "epoch 3:  mean loss: 1.5048  f1 score: 70.96  best: 70.96\n"
          ]
        },
        {
          "output_type": "stream",
          "name": "stderr",
          "text": [
            "100%|██████████| 183/183 [00:09<00:00, 19.76it/s]\n"
          ]
        },
        {
          "output_type": "stream",
          "name": "stdout",
          "text": [
            "epoch 4:  mean loss: 1.1635  f1 score: 72.24  best: 72.24\n"
          ]
        },
        {
          "output_type": "stream",
          "name": "stderr",
          "text": [
            "100%|██████████| 183/183 [00:08<00:00, 21.53it/s]\n"
          ]
        },
        {
          "output_type": "stream",
          "name": "stdout",
          "text": [
            "epoch 5:  mean loss: 0.9014  f1 score: 72.73  best: 72.73\n"
          ]
        },
        {
          "output_type": "stream",
          "name": "stderr",
          "text": [
            "100%|██████████| 183/183 [00:08<00:00, 21.46it/s]\n"
          ]
        },
        {
          "output_type": "stream",
          "name": "stdout",
          "text": [
            "epoch 6:  mean loss: 0.7509  f1 score: 74.68  best: 74.68\n"
          ]
        },
        {
          "output_type": "stream",
          "name": "stderr",
          "text": [
            "100%|██████████| 183/183 [00:08<00:00, 21.42it/s]\n"
          ]
        },
        {
          "output_type": "stream",
          "name": "stdout",
          "text": [
            "epoch 7:  mean loss: 0.5878  f1 score: 74.36  best: 74.68\n"
          ]
        },
        {
          "output_type": "stream",
          "name": "stderr",
          "text": [
            "100%|██████████| 183/183 [00:08<00:00, 21.53it/s]\n"
          ]
        },
        {
          "output_type": "stream",
          "name": "stdout",
          "text": [
            "epoch 8:  mean loss: 0.4847  f1 score: 74.77  best: 74.77\n"
          ]
        },
        {
          "output_type": "stream",
          "name": "stderr",
          "text": [
            "100%|██████████| 183/183 [00:08<00:00, 21.37it/s]\n"
          ]
        },
        {
          "output_type": "stream",
          "name": "stdout",
          "text": [
            "epoch 9:  mean loss: 0.3804  f1 score: 74.81  best: 74.81\n"
          ]
        },
        {
          "output_type": "stream",
          "name": "stderr",
          "text": [
            "100%|██████████| 183/183 [00:08<00:00, 21.27it/s]\n"
          ]
        },
        {
          "output_type": "stream",
          "name": "stdout",
          "text": [
            "epoch 10:  mean loss: 0.3278  f1 score: 75.46  best: 75.46\n"
          ]
        },
        {
          "output_type": "stream",
          "name": "stderr",
          "text": [
            "100%|██████████| 183/183 [00:08<00:00, 21.52it/s]\n"
          ]
        },
        {
          "output_type": "stream",
          "name": "stdout",
          "text": [
            "epoch 11:  mean loss: 0.2703  f1 score: 75.48  best: 75.48\n"
          ]
        },
        {
          "output_type": "stream",
          "name": "stderr",
          "text": [
            "100%|██████████| 183/183 [00:08<00:00, 21.52it/s]\n"
          ]
        },
        {
          "output_type": "stream",
          "name": "stdout",
          "text": [
            "epoch 12:  mean loss: 0.2406  f1 score: 75.48  best: 75.48\n"
          ]
        },
        {
          "output_type": "stream",
          "name": "stderr",
          "text": [
            "100%|██████████| 183/183 [00:08<00:00, 21.60it/s]\n"
          ]
        },
        {
          "output_type": "stream",
          "name": "stdout",
          "text": [
            "epoch 13:  mean loss: 0.2049  f1 score: 76.22  best: 76.22\n"
          ]
        },
        {
          "output_type": "stream",
          "name": "stderr",
          "text": [
            "100%|██████████| 183/183 [00:08<00:00, 21.38it/s]\n"
          ]
        },
        {
          "output_type": "stream",
          "name": "stdout",
          "text": [
            "epoch 14:  mean loss: 0.1768  f1 score: 75.13  best: 76.22\n"
          ]
        },
        {
          "output_type": "stream",
          "name": "stderr",
          "text": [
            "100%|██████████| 183/183 [00:08<00:00, 21.29it/s]\n"
          ]
        },
        {
          "output_type": "stream",
          "name": "stdout",
          "text": [
            "epoch 15:  mean loss: 0.1635  f1 score: 75.24  best: 76.22\n"
          ]
        },
        {
          "output_type": "stream",
          "name": "stderr",
          "text": [
            "100%|██████████| 183/183 [00:08<00:00, 21.40it/s]\n"
          ]
        },
        {
          "output_type": "stream",
          "name": "stdout",
          "text": [
            "epoch 16:  mean loss: 0.1378  f1 score: 75.55  best: 76.22\n"
          ]
        },
        {
          "output_type": "stream",
          "name": "stderr",
          "text": [
            "100%|██████████| 183/183 [00:08<00:00, 21.01it/s]\n"
          ]
        },
        {
          "output_type": "stream",
          "name": "stdout",
          "text": [
            "epoch 17:  mean loss: 0.1363  f1 score: 75.42  best: 76.22\n"
          ]
        },
        {
          "output_type": "stream",
          "name": "stderr",
          "text": [
            "100%|██████████| 183/183 [00:08<00:00, 21.55it/s]\n"
          ]
        },
        {
          "output_type": "stream",
          "name": "stdout",
          "text": [
            "epoch 18:  mean loss: 0.1263  f1 score: 75.77  best: 76.22\n"
          ]
        },
        {
          "output_type": "stream",
          "name": "stderr",
          "text": [
            "100%|██████████| 183/183 [00:08<00:00, 21.60it/s]\n"
          ]
        },
        {
          "output_type": "stream",
          "name": "stdout",
          "text": [
            "epoch 19:  mean loss: 0.1065  f1 score: 74.92  best: 76.22\n"
          ]
        },
        {
          "output_type": "stream",
          "name": "stderr",
          "text": [
            "100%|██████████| 183/183 [00:08<00:00, 21.41it/s]\n"
          ]
        },
        {
          "output_type": "stream",
          "name": "stdout",
          "text": [
            "epoch 20:  mean loss: 0.1092  f1 score: 75.17  best: 76.22\n"
          ]
        },
        {
          "output_type": "stream",
          "name": "stderr",
          "text": [
            "100%|██████████| 183/183 [00:08<00:00, 21.42it/s]\n"
          ]
        },
        {
          "output_type": "stream",
          "name": "stdout",
          "text": [
            "epoch 21:  mean loss: 0.0979  f1 score: 75.30  best: 76.22\n"
          ]
        },
        {
          "output_type": "stream",
          "name": "stderr",
          "text": [
            "100%|██████████| 183/183 [00:08<00:00, 21.48it/s]\n"
          ]
        },
        {
          "output_type": "stream",
          "name": "stdout",
          "text": [
            "epoch 22:  mean loss: 0.0963  f1 score: 76.12  best: 76.22\n"
          ]
        },
        {
          "output_type": "stream",
          "name": "stderr",
          "text": [
            "100%|██████████| 183/183 [00:08<00:00, 21.30it/s]\n"
          ]
        },
        {
          "output_type": "stream",
          "name": "stdout",
          "text": [
            "epoch 23:  mean loss: 0.0951  f1 score: 76.19  best: 76.22\n"
          ]
        },
        {
          "output_type": "stream",
          "name": "stderr",
          "text": [
            "100%|██████████| 183/183 [00:08<00:00, 21.50it/s]\n"
          ]
        },
        {
          "output_type": "stream",
          "name": "stdout",
          "text": [
            "epoch 24:  mean loss: 0.0883  f1 score: 75.93  best: 76.22\n"
          ]
        },
        {
          "output_type": "stream",
          "name": "stderr",
          "text": [
            "100%|██████████| 183/183 [00:08<00:00, 21.37it/s]\n"
          ]
        },
        {
          "output_type": "stream",
          "name": "stdout",
          "text": [
            "epoch 25:  mean loss: 0.0875  f1 score: 75.34  best: 76.22\n"
          ]
        },
        {
          "output_type": "stream",
          "name": "stderr",
          "text": [
            "100%|██████████| 183/183 [00:08<00:00, 21.52it/s]\n"
          ]
        },
        {
          "output_type": "stream",
          "name": "stdout",
          "text": [
            "epoch 26:  mean loss: 0.0725  f1 score: 75.52  best: 76.22\n"
          ]
        },
        {
          "output_type": "stream",
          "name": "stderr",
          "text": [
            "100%|██████████| 183/183 [00:08<00:00, 21.24it/s]\n"
          ]
        },
        {
          "output_type": "stream",
          "name": "stdout",
          "text": [
            "epoch 27:  mean loss: 0.0777  f1 score: 75.76  best: 76.22\n"
          ]
        },
        {
          "output_type": "stream",
          "name": "stderr",
          "text": [
            "100%|██████████| 183/183 [00:08<00:00, 21.13it/s]\n"
          ]
        },
        {
          "output_type": "stream",
          "name": "stdout",
          "text": [
            "epoch 28:  mean loss: 0.0668  f1 score: 75.66  best: 76.22\n"
          ]
        },
        {
          "output_type": "stream",
          "name": "stderr",
          "text": [
            "100%|██████████| 183/183 [00:08<00:00, 21.27it/s]\n"
          ]
        },
        {
          "output_type": "stream",
          "name": "stdout",
          "text": [
            "epoch 29:  mean loss: 0.0543  f1 score: 75.70  best: 76.22\n"
          ]
        },
        {
          "output_type": "stream",
          "name": "stderr",
          "text": [
            "100%|██████████| 183/183 [00:08<00:00, 21.43it/s]\n"
          ]
        },
        {
          "output_type": "stream",
          "name": "stdout",
          "text": [
            "epoch 30:  mean loss: 0.0638  f1 score: 76.20  best: 76.22\n"
          ]
        },
        {
          "output_type": "stream",
          "name": "stderr",
          "text": [
            "100%|██████████| 183/183 [00:08<00:00, 21.39it/s]\n"
          ]
        },
        {
          "output_type": "stream",
          "name": "stdout",
          "text": [
            "epoch 31:  mean loss: 0.0614  f1 score: 76.18  best: 76.22\n"
          ]
        },
        {
          "output_type": "stream",
          "name": "stderr",
          "text": [
            "100%|██████████| 183/183 [00:08<00:00, 21.74it/s]\n"
          ]
        },
        {
          "output_type": "stream",
          "name": "stdout",
          "text": [
            "epoch 32:  mean loss: 0.0539  f1 score: 76.05  best: 76.22\n"
          ]
        },
        {
          "output_type": "stream",
          "name": "stderr",
          "text": [
            "100%|██████████| 183/183 [00:08<00:00, 21.10it/s]\n"
          ]
        },
        {
          "output_type": "stream",
          "name": "stdout",
          "text": [
            "epoch 33:  mean loss: 0.0534  f1 score: 75.59  best: 76.22\n"
          ]
        },
        {
          "output_type": "stream",
          "name": "stderr",
          "text": [
            "100%|██████████| 183/183 [00:08<00:00, 21.40it/s]\n"
          ]
        },
        {
          "output_type": "stream",
          "name": "stdout",
          "text": [
            "epoch 34:  mean loss: 0.0538  f1 score: 75.06  best: 76.22\n"
          ]
        },
        {
          "output_type": "stream",
          "name": "stderr",
          "text": [
            "100%|██████████| 183/183 [00:08<00:00, 21.35it/s]\n"
          ]
        },
        {
          "output_type": "stream",
          "name": "stdout",
          "text": [
            "epoch 35:  mean loss: 0.0519  f1 score: 76.25  best: 76.25\n"
          ]
        },
        {
          "output_type": "stream",
          "name": "stderr",
          "text": [
            "100%|██████████| 183/183 [00:08<00:00, 21.50it/s]\n"
          ]
        },
        {
          "output_type": "stream",
          "name": "stdout",
          "text": [
            "epoch 36:  mean loss: 0.0570  f1 score: 76.23  best: 76.25\n"
          ]
        },
        {
          "output_type": "stream",
          "name": "stderr",
          "text": [
            "100%|██████████| 183/183 [00:08<00:00, 21.52it/s]\n"
          ]
        },
        {
          "output_type": "stream",
          "name": "stdout",
          "text": [
            "epoch 37:  mean loss: 0.0482  f1 score: 76.16  best: 76.25\n"
          ]
        },
        {
          "output_type": "stream",
          "name": "stderr",
          "text": [
            "100%|██████████| 183/183 [00:08<00:00, 21.53it/s]\n"
          ]
        },
        {
          "output_type": "stream",
          "name": "stdout",
          "text": [
            "epoch 38:  mean loss: 0.0502  f1 score: 75.99  best: 76.25\n"
          ]
        },
        {
          "output_type": "stream",
          "name": "stderr",
          "text": [
            "100%|██████████| 183/183 [00:08<00:00, 21.45it/s]\n"
          ]
        },
        {
          "output_type": "stream",
          "name": "stdout",
          "text": [
            "epoch 39:  mean loss: 0.0504  f1 score: 76.49  best: 76.49\n"
          ]
        },
        {
          "output_type": "stream",
          "name": "stderr",
          "text": [
            "100%|██████████| 183/183 [00:08<00:00, 21.03it/s]\n"
          ]
        },
        {
          "output_type": "stream",
          "name": "stdout",
          "text": [
            "epoch 40:  mean loss: 0.0526  f1 score: 75.69  best: 76.49\n"
          ]
        },
        {
          "output_type": "stream",
          "name": "stderr",
          "text": [
            "100%|██████████| 183/183 [00:08<00:00, 21.23it/s]\n"
          ]
        },
        {
          "output_type": "stream",
          "name": "stdout",
          "text": [
            "epoch 41:  mean loss: 0.0503  f1 score: 76.08  best: 76.49\n"
          ]
        },
        {
          "output_type": "stream",
          "name": "stderr",
          "text": [
            "100%|██████████| 183/183 [00:08<00:00, 21.15it/s]\n"
          ]
        },
        {
          "output_type": "stream",
          "name": "stdout",
          "text": [
            "epoch 42:  mean loss: 0.0515  f1 score: 76.17  best: 76.49\n"
          ]
        },
        {
          "output_type": "stream",
          "name": "stderr",
          "text": [
            "100%|██████████| 183/183 [00:08<00:00, 21.24it/s]\n"
          ]
        },
        {
          "output_type": "stream",
          "name": "stdout",
          "text": [
            "epoch 43:  mean loss: 0.0398  f1 score: 76.27  best: 76.49\n"
          ]
        },
        {
          "output_type": "stream",
          "name": "stderr",
          "text": [
            "100%|██████████| 183/183 [00:08<00:00, 21.69it/s]\n"
          ]
        },
        {
          "output_type": "stream",
          "name": "stdout",
          "text": [
            "epoch 44:  mean loss: 0.0358  f1 score: 76.71  best: 76.71\n"
          ]
        },
        {
          "output_type": "stream",
          "name": "stderr",
          "text": [
            "100%|██████████| 183/183 [00:08<00:00, 21.37it/s]\n"
          ]
        },
        {
          "output_type": "stream",
          "name": "stdout",
          "text": [
            "epoch 45:  mean loss: 0.0379  f1 score: 77.06  best: 77.06\n"
          ]
        },
        {
          "output_type": "stream",
          "name": "stderr",
          "text": [
            "100%|██████████| 183/183 [00:08<00:00, 21.31it/s]\n"
          ]
        },
        {
          "output_type": "stream",
          "name": "stdout",
          "text": [
            "epoch 46:  mean loss: 0.0418  f1 score: 76.33  best: 77.06\n"
          ]
        },
        {
          "output_type": "stream",
          "name": "stderr",
          "text": [
            "100%|██████████| 183/183 [00:08<00:00, 21.33it/s]\n"
          ]
        },
        {
          "output_type": "stream",
          "name": "stdout",
          "text": [
            "epoch 47:  mean loss: 0.0414  f1 score: 76.01  best: 77.06\n"
          ]
        },
        {
          "output_type": "stream",
          "name": "stderr",
          "text": [
            "100%|██████████| 183/183 [00:08<00:00, 21.02it/s]\n"
          ]
        },
        {
          "output_type": "stream",
          "name": "stdout",
          "text": [
            "epoch 48:  mean loss: 0.0436  f1 score: 75.88  best: 77.06\n"
          ]
        },
        {
          "output_type": "stream",
          "name": "stderr",
          "text": [
            "100%|██████████| 183/183 [00:08<00:00, 21.58it/s]\n"
          ]
        },
        {
          "output_type": "stream",
          "name": "stdout",
          "text": [
            "epoch 49:  mean loss: 0.0418  f1 score: 76.11  best: 77.06\n"
          ]
        },
        {
          "output_type": "stream",
          "name": "stderr",
          "text": [
            "100%|██████████| 183/183 [00:08<00:00, 21.26it/s]\n"
          ]
        },
        {
          "output_type": "stream",
          "name": "stdout",
          "text": [
            "epoch 50:  mean loss: 0.0344  f1 score: 76.30  best: 77.06\n"
          ]
        },
        {
          "output_type": "stream",
          "name": "stderr",
          "text": [
            "100%|██████████| 183/183 [00:08<00:00, 21.12it/s]\n"
          ]
        },
        {
          "output_type": "stream",
          "name": "stdout",
          "text": [
            "epoch 51:  mean loss: 0.0348  f1 score: 76.69  best: 77.06\n"
          ]
        },
        {
          "output_type": "stream",
          "name": "stderr",
          "text": [
            "100%|██████████| 183/183 [00:08<00:00, 21.21it/s]\n"
          ]
        },
        {
          "output_type": "stream",
          "name": "stdout",
          "text": [
            "epoch 52:  mean loss: 0.0282  f1 score: 77.02  best: 77.06\n"
          ]
        },
        {
          "output_type": "stream",
          "name": "stderr",
          "text": [
            "100%|██████████| 183/183 [00:08<00:00, 21.45it/s]\n"
          ]
        },
        {
          "output_type": "stream",
          "name": "stdout",
          "text": [
            "epoch 53:  mean loss: 0.0331  f1 score: 76.27  best: 77.06\n"
          ]
        },
        {
          "output_type": "stream",
          "name": "stderr",
          "text": [
            "100%|██████████| 183/183 [00:08<00:00, 21.25it/s]\n"
          ]
        },
        {
          "output_type": "stream",
          "name": "stdout",
          "text": [
            "epoch 54:  mean loss: 0.0375  f1 score: 76.09  best: 77.06\n"
          ]
        },
        {
          "output_type": "stream",
          "name": "stderr",
          "text": [
            "100%|██████████| 183/183 [00:08<00:00, 21.54it/s]\n"
          ]
        },
        {
          "output_type": "stream",
          "name": "stdout",
          "text": [
            "epoch 55:  mean loss: 0.0368  f1 score: 76.30  best: 77.06\n"
          ]
        },
        {
          "output_type": "stream",
          "name": "stderr",
          "text": [
            "100%|██████████| 183/183 [00:08<00:00, 21.27it/s]\n"
          ]
        },
        {
          "output_type": "stream",
          "name": "stdout",
          "text": [
            "epoch 56:  mean loss: 0.0339  f1 score: 76.21  best: 77.06\n"
          ]
        },
        {
          "output_type": "stream",
          "name": "stderr",
          "text": [
            "100%|██████████| 183/183 [00:08<00:00, 21.14it/s]\n"
          ]
        },
        {
          "output_type": "stream",
          "name": "stdout",
          "text": [
            "epoch 57:  mean loss: 0.0345  f1 score: 76.73  best: 77.06\n"
          ]
        },
        {
          "output_type": "stream",
          "name": "stderr",
          "text": [
            "100%|██████████| 183/183 [00:08<00:00, 21.26it/s]\n"
          ]
        },
        {
          "output_type": "stream",
          "name": "stdout",
          "text": [
            "epoch 58:  mean loss: 0.0306  f1 score: 77.37  best: 77.37\n"
          ]
        },
        {
          "output_type": "stream",
          "name": "stderr",
          "text": [
            "100%|██████████| 183/183 [00:08<00:00, 21.52it/s]\n"
          ]
        },
        {
          "output_type": "stream",
          "name": "stdout",
          "text": [
            "epoch 59:  mean loss: 0.0326  f1 score: 76.64  best: 77.37\n"
          ]
        },
        {
          "output_type": "stream",
          "name": "stderr",
          "text": [
            "100%|██████████| 183/183 [00:08<00:00, 21.23it/s]\n"
          ]
        },
        {
          "output_type": "stream",
          "name": "stdout",
          "text": [
            "epoch 60:  mean loss: 0.0313  f1 score: 76.78  best: 77.37\n"
          ]
        },
        {
          "output_type": "stream",
          "name": "stderr",
          "text": [
            "100%|██████████| 183/183 [00:08<00:00, 21.41it/s]\n"
          ]
        },
        {
          "output_type": "stream",
          "name": "stdout",
          "text": [
            "epoch 61:  mean loss: 0.0348  f1 score: 76.36  best: 77.37\n"
          ]
        },
        {
          "output_type": "stream",
          "name": "stderr",
          "text": [
            "100%|██████████| 183/183 [00:08<00:00, 21.01it/s]\n"
          ]
        },
        {
          "output_type": "stream",
          "name": "stdout",
          "text": [
            "epoch 62:  mean loss: 0.0270  f1 score: 76.63  best: 77.37\n"
          ]
        },
        {
          "output_type": "stream",
          "name": "stderr",
          "text": [
            "100%|██████████| 183/183 [00:08<00:00, 21.45it/s]\n"
          ]
        },
        {
          "output_type": "stream",
          "name": "stdout",
          "text": [
            "epoch 63:  mean loss: 0.0327  f1 score: 76.21  best: 77.37\n"
          ]
        },
        {
          "output_type": "stream",
          "name": "stderr",
          "text": [
            "100%|██████████| 183/183 [00:08<00:00, 21.29it/s]\n"
          ]
        },
        {
          "output_type": "stream",
          "name": "stdout",
          "text": [
            "epoch 64:  mean loss: 0.0308  f1 score: 76.76  best: 77.37\n"
          ]
        },
        {
          "output_type": "stream",
          "name": "stderr",
          "text": [
            "100%|██████████| 183/183 [00:08<00:00, 21.27it/s]\n"
          ]
        },
        {
          "output_type": "stream",
          "name": "stdout",
          "text": [
            "epoch 65:  mean loss: 0.0303  f1 score: 76.22  best: 77.37\n"
          ]
        },
        {
          "output_type": "stream",
          "name": "stderr",
          "text": [
            "100%|██████████| 183/183 [00:08<00:00, 21.14it/s]\n"
          ]
        },
        {
          "output_type": "stream",
          "name": "stdout",
          "text": [
            "epoch 66:  mean loss: 0.0269  f1 score: 76.57  best: 77.37\n"
          ]
        },
        {
          "output_type": "stream",
          "name": "stderr",
          "text": [
            "100%|██████████| 183/183 [00:08<00:00, 21.21it/s]\n"
          ]
        },
        {
          "output_type": "stream",
          "name": "stdout",
          "text": [
            "epoch 67:  mean loss: 0.0228  f1 score: 76.60  best: 77.37\n"
          ]
        },
        {
          "output_type": "stream",
          "name": "stderr",
          "text": [
            "100%|██████████| 183/183 [00:08<00:00, 21.49it/s]\n"
          ]
        },
        {
          "output_type": "stream",
          "name": "stdout",
          "text": [
            "epoch 68:  mean loss: 0.0330  f1 score: 76.41  best: 77.37\n"
          ]
        },
        {
          "output_type": "stream",
          "name": "stderr",
          "text": [
            "100%|██████████| 183/183 [00:08<00:00, 21.46it/s]\n"
          ]
        },
        {
          "output_type": "stream",
          "name": "stdout",
          "text": [
            "epoch 69:  mean loss: 0.0342  f1 score: 75.94  best: 77.37\n"
          ]
        },
        {
          "output_type": "stream",
          "name": "stderr",
          "text": [
            "100%|██████████| 183/183 [00:08<00:00, 21.32it/s]\n"
          ]
        },
        {
          "output_type": "stream",
          "name": "stdout",
          "text": [
            "epoch 70:  mean loss: 0.0291  f1 score: 76.84  best: 77.37\n"
          ]
        },
        {
          "output_type": "stream",
          "name": "stderr",
          "text": [
            "100%|██████████| 183/183 [00:08<00:00, 21.28it/s]\n"
          ]
        },
        {
          "output_type": "stream",
          "name": "stdout",
          "text": [
            "epoch 71:  mean loss: 0.0293  f1 score: 76.97  best: 77.37\n"
          ]
        },
        {
          "output_type": "stream",
          "name": "stderr",
          "text": [
            "100%|██████████| 183/183 [00:08<00:00, 21.10it/s]\n"
          ]
        },
        {
          "output_type": "stream",
          "name": "stdout",
          "text": [
            "epoch 72:  mean loss: 0.0261  f1 score: 76.49  best: 77.37\n"
          ]
        },
        {
          "output_type": "stream",
          "name": "stderr",
          "text": [
            "100%|██████████| 183/183 [00:08<00:00, 21.66it/s]\n"
          ]
        },
        {
          "output_type": "stream",
          "name": "stdout",
          "text": [
            "epoch 73:  mean loss: 0.0259  f1 score: 76.84  best: 77.37\n"
          ]
        },
        {
          "output_type": "stream",
          "name": "stderr",
          "text": [
            "100%|██████████| 183/183 [00:08<00:00, 21.37it/s]\n"
          ]
        },
        {
          "output_type": "stream",
          "name": "stdout",
          "text": [
            "epoch 74:  mean loss: 0.0267  f1 score: 76.42  best: 77.37\n"
          ]
        },
        {
          "output_type": "stream",
          "name": "stderr",
          "text": [
            "100%|██████████| 183/183 [00:08<00:00, 21.36it/s]\n"
          ]
        },
        {
          "output_type": "stream",
          "name": "stdout",
          "text": [
            "epoch 75:  mean loss: 0.0257  f1 score: 76.46  best: 77.37\n"
          ]
        },
        {
          "output_type": "stream",
          "name": "stderr",
          "text": [
            "100%|██████████| 183/183 [00:08<00:00, 20.95it/s]\n"
          ]
        },
        {
          "output_type": "stream",
          "name": "stdout",
          "text": [
            "epoch 76:  mean loss: 0.0208  f1 score: 76.52  best: 77.37\n"
          ]
        },
        {
          "output_type": "stream",
          "name": "stderr",
          "text": [
            "100%|██████████| 183/183 [00:08<00:00, 21.57it/s]\n"
          ]
        },
        {
          "output_type": "stream",
          "name": "stdout",
          "text": [
            "epoch 77:  mean loss: 0.0220  f1 score: 76.38  best: 77.37\n"
          ]
        },
        {
          "output_type": "stream",
          "name": "stderr",
          "text": [
            "100%|██████████| 183/183 [00:08<00:00, 21.36it/s]\n"
          ]
        },
        {
          "output_type": "stream",
          "name": "stdout",
          "text": [
            "epoch 78:  mean loss: 0.0256  f1 score: 76.49  best: 77.37\n"
          ]
        },
        {
          "output_type": "stream",
          "name": "stderr",
          "text": [
            "100%|██████████| 183/183 [00:08<00:00, 21.37it/s]\n"
          ]
        },
        {
          "output_type": "stream",
          "name": "stdout",
          "text": [
            "epoch 79:  mean loss: 0.0251  f1 score: 76.70  best: 77.37\n"
          ]
        },
        {
          "output_type": "stream",
          "name": "stderr",
          "text": [
            "100%|██████████| 183/183 [00:08<00:00, 21.25it/s]\n"
          ]
        },
        {
          "output_type": "stream",
          "name": "stdout",
          "text": [
            "epoch 80:  mean loss: 0.0221  f1 score: 76.92  best: 77.37\n"
          ]
        },
        {
          "output_type": "stream",
          "name": "stderr",
          "text": [
            "100%|██████████| 183/183 [00:08<00:00, 21.02it/s]\n"
          ]
        },
        {
          "output_type": "stream",
          "name": "stdout",
          "text": [
            "epoch 81:  mean loss: 0.0216  f1 score: 76.83  best: 77.37\n"
          ]
        },
        {
          "output_type": "stream",
          "name": "stderr",
          "text": [
            "100%|██████████| 183/183 [00:08<00:00, 21.07it/s]\n"
          ]
        },
        {
          "output_type": "stream",
          "name": "stdout",
          "text": [
            "epoch 82:  mean loss: 0.0210  f1 score: 76.08  best: 77.37\n"
          ]
        },
        {
          "output_type": "stream",
          "name": "stderr",
          "text": [
            "100%|██████████| 183/183 [00:08<00:00, 21.48it/s]\n"
          ]
        },
        {
          "output_type": "stream",
          "name": "stdout",
          "text": [
            "epoch 83:  mean loss: 0.0269  f1 score: 76.15  best: 77.37\n"
          ]
        },
        {
          "output_type": "stream",
          "name": "stderr",
          "text": [
            "100%|██████████| 183/183 [00:08<00:00, 21.35it/s]\n"
          ]
        },
        {
          "output_type": "stream",
          "name": "stdout",
          "text": [
            "epoch 84:  mean loss: 0.0191  f1 score: 76.53  best: 77.37\n"
          ]
        },
        {
          "output_type": "stream",
          "name": "stderr",
          "text": [
            "100%|██████████| 183/183 [00:08<00:00, 21.48it/s]\n"
          ]
        },
        {
          "output_type": "stream",
          "name": "stdout",
          "text": [
            "epoch 85:  mean loss: 0.0194  f1 score: 77.02  best: 77.37\n"
          ]
        },
        {
          "output_type": "stream",
          "name": "stderr",
          "text": [
            "100%|██████████| 183/183 [00:08<00:00, 21.54it/s]\n"
          ]
        },
        {
          "output_type": "stream",
          "name": "stdout",
          "text": [
            "epoch 86:  mean loss: 0.0204  f1 score: 76.59  best: 77.37\n"
          ]
        },
        {
          "output_type": "stream",
          "name": "stderr",
          "text": [
            "100%|██████████| 183/183 [00:08<00:00, 21.36it/s]\n"
          ]
        },
        {
          "output_type": "stream",
          "name": "stdout",
          "text": [
            "epoch 87:  mean loss: 0.0227  f1 score: 76.70  best: 77.37\n"
          ]
        },
        {
          "output_type": "stream",
          "name": "stderr",
          "text": [
            "100%|██████████| 183/183 [00:08<00:00, 21.07it/s]\n"
          ]
        },
        {
          "output_type": "stream",
          "name": "stdout",
          "text": [
            "epoch 88:  mean loss: 0.0261  f1 score: 76.37  best: 77.37\n"
          ]
        },
        {
          "output_type": "stream",
          "name": "stderr",
          "text": [
            "100%|██████████| 183/183 [00:08<00:00, 21.25it/s]\n"
          ]
        },
        {
          "output_type": "stream",
          "name": "stdout",
          "text": [
            "epoch 89:  mean loss: 0.0279  f1 score: 77.16  best: 77.37\n"
          ]
        },
        {
          "output_type": "stream",
          "name": "stderr",
          "text": [
            "100%|██████████| 183/183 [00:08<00:00, 21.27it/s]\n"
          ]
        },
        {
          "output_type": "stream",
          "name": "stdout",
          "text": [
            "epoch 90:  mean loss: 0.0240  f1 score: 76.61  best: 77.37\n"
          ]
        },
        {
          "output_type": "stream",
          "name": "stderr",
          "text": [
            "100%|██████████| 183/183 [00:08<00:00, 21.36it/s]\n"
          ]
        },
        {
          "output_type": "stream",
          "name": "stdout",
          "text": [
            "epoch 91:  mean loss: 0.0221  f1 score: 76.63  best: 77.37\n"
          ]
        },
        {
          "output_type": "stream",
          "name": "stderr",
          "text": [
            "100%|██████████| 183/183 [00:08<00:00, 21.45it/s]\n"
          ]
        },
        {
          "output_type": "stream",
          "name": "stdout",
          "text": [
            "epoch 92:  mean loss: 0.0206  f1 score: 77.04  best: 77.37\n"
          ]
        },
        {
          "output_type": "stream",
          "name": "stderr",
          "text": [
            "100%|██████████| 183/183 [00:08<00:00, 21.28it/s]\n"
          ]
        },
        {
          "output_type": "stream",
          "name": "stdout",
          "text": [
            "epoch 93:  mean loss: 0.0195  f1 score: 76.49  best: 77.37\n"
          ]
        },
        {
          "output_type": "stream",
          "name": "stderr",
          "text": [
            "100%|██████████| 183/183 [00:08<00:00, 21.01it/s]\n"
          ]
        },
        {
          "output_type": "stream",
          "name": "stdout",
          "text": [
            "epoch 94:  mean loss: 0.0219  f1 score: 76.61  best: 77.37\n"
          ]
        },
        {
          "output_type": "stream",
          "name": "stderr",
          "text": [
            "100%|██████████| 183/183 [00:08<00:00, 21.60it/s]\n"
          ]
        },
        {
          "output_type": "stream",
          "name": "stdout",
          "text": [
            "epoch 95:  mean loss: 0.0192  f1 score: 76.19  best: 77.37\n"
          ]
        },
        {
          "output_type": "stream",
          "name": "stderr",
          "text": [
            "100%|██████████| 183/183 [00:08<00:00, 21.39it/s]\n"
          ]
        },
        {
          "output_type": "stream",
          "name": "stdout",
          "text": [
            "epoch 96:  mean loss: 0.0220  f1 score: 76.62  best: 77.37\n"
          ]
        },
        {
          "output_type": "stream",
          "name": "stderr",
          "text": [
            "100%|██████████| 183/183 [00:08<00:00, 21.61it/s]\n"
          ]
        },
        {
          "output_type": "stream",
          "name": "stdout",
          "text": [
            "epoch 97:  mean loss: 0.0207  f1 score: 76.73  best: 77.37\n"
          ]
        },
        {
          "output_type": "stream",
          "name": "stderr",
          "text": [
            "100%|██████████| 183/183 [00:08<00:00, 21.22it/s]\n"
          ]
        },
        {
          "output_type": "stream",
          "name": "stdout",
          "text": [
            "epoch 98:  mean loss: 0.0197  f1 score: 76.75  best: 77.37\n"
          ]
        },
        {
          "output_type": "stream",
          "name": "stderr",
          "text": [
            "100%|██████████| 183/183 [00:08<00:00, 21.21it/s]\n"
          ]
        },
        {
          "output_type": "stream",
          "name": "stdout",
          "text": [
            "epoch 99:  mean loss: 0.0202  f1 score: 76.71  best: 77.37\n"
          ]
        },
        {
          "output_type": "stream",
          "name": "stderr",
          "text": [
            "100%|██████████| 183/183 [00:08<00:00, 21.49it/s]\n"
          ]
        },
        {
          "output_type": "stream",
          "name": "stdout",
          "text": [
            "epoch 100:  mean loss: 0.0203  f1 score: 76.79  best: 77.37\n"
          ]
        },
        {
          "output_type": "stream",
          "name": "stderr",
          "text": [
            "100%|██████████| 183/183 [00:08<00:00, 21.51it/s]\n"
          ]
        },
        {
          "output_type": "stream",
          "name": "stdout",
          "text": [
            "epoch 101:  mean loss: 0.0169  f1 score: 76.90  best: 77.37\n"
          ]
        },
        {
          "output_type": "stream",
          "name": "stderr",
          "text": [
            "100%|██████████| 183/183 [00:08<00:00, 21.56it/s]\n"
          ]
        },
        {
          "output_type": "stream",
          "name": "stdout",
          "text": [
            "epoch 102:  mean loss: 0.0169  f1 score: 76.52  best: 77.37\n"
          ]
        },
        {
          "output_type": "stream",
          "name": "stderr",
          "text": [
            "100%|██████████| 183/183 [00:08<00:00, 21.48it/s]\n"
          ]
        },
        {
          "output_type": "stream",
          "name": "stdout",
          "text": [
            "epoch 103:  mean loss: 0.0203  f1 score: 76.47  best: 77.37\n"
          ]
        },
        {
          "output_type": "stream",
          "name": "stderr",
          "text": [
            "100%|██████████| 183/183 [00:08<00:00, 21.34it/s]\n"
          ]
        },
        {
          "output_type": "stream",
          "name": "stdout",
          "text": [
            "epoch 104:  mean loss: 0.0190  f1 score: 76.92  best: 77.37\n"
          ]
        },
        {
          "output_type": "stream",
          "name": "stderr",
          "text": [
            "100%|██████████| 183/183 [00:08<00:00, 21.37it/s]\n"
          ]
        },
        {
          "output_type": "stream",
          "name": "stdout",
          "text": [
            "epoch 105:  mean loss: 0.0161  f1 score: 76.73  best: 77.37\n"
          ]
        },
        {
          "output_type": "stream",
          "name": "stderr",
          "text": [
            "100%|██████████| 183/183 [00:08<00:00, 21.19it/s]\n"
          ]
        },
        {
          "output_type": "stream",
          "name": "stdout",
          "text": [
            "epoch 106:  mean loss: 0.0183  f1 score: 76.52  best: 77.37\n"
          ]
        },
        {
          "output_type": "stream",
          "name": "stderr",
          "text": [
            "100%|██████████| 183/183 [00:08<00:00, 21.27it/s]\n"
          ]
        },
        {
          "output_type": "stream",
          "name": "stdout",
          "text": [
            "epoch 107:  mean loss: 0.0172  f1 score: 76.72  best: 77.37\n"
          ]
        },
        {
          "output_type": "stream",
          "name": "stderr",
          "text": [
            "100%|██████████| 183/183 [00:08<00:00, 21.30it/s]\n"
          ]
        },
        {
          "output_type": "stream",
          "name": "stdout",
          "text": [
            "epoch 108:  mean loss: 0.0173  f1 score: 76.79  best: 77.37\n"
          ]
        },
        {
          "output_type": "stream",
          "name": "stderr",
          "text": [
            "100%|██████████| 183/183 [00:08<00:00, 21.32it/s]\n"
          ]
        },
        {
          "output_type": "stream",
          "name": "stdout",
          "text": [
            "epoch 109:  mean loss: 0.0181  f1 score: 76.88  best: 77.37\n"
          ]
        },
        {
          "output_type": "stream",
          "name": "stderr",
          "text": [
            "100%|██████████| 183/183 [00:08<00:00, 21.20it/s]\n"
          ]
        },
        {
          "output_type": "stream",
          "name": "stdout",
          "text": [
            "epoch 110:  mean loss: 0.0166  f1 score: 76.79  best: 77.37\n"
          ]
        },
        {
          "output_type": "stream",
          "name": "stderr",
          "text": [
            "100%|██████████| 183/183 [00:08<00:00, 20.74it/s]\n"
          ]
        },
        {
          "output_type": "stream",
          "name": "stdout",
          "text": [
            "epoch 111:  mean loss: 0.0195  f1 score: 76.42  best: 77.37\n"
          ]
        },
        {
          "output_type": "stream",
          "name": "stderr",
          "text": [
            "100%|██████████| 183/183 [00:08<00:00, 21.53it/s]\n"
          ]
        },
        {
          "output_type": "stream",
          "name": "stdout",
          "text": [
            "epoch 112:  mean loss: 0.0182  f1 score: 76.44  best: 77.37\n"
          ]
        },
        {
          "output_type": "stream",
          "name": "stderr",
          "text": [
            "100%|██████████| 183/183 [00:08<00:00, 21.38it/s]\n"
          ]
        },
        {
          "output_type": "stream",
          "name": "stdout",
          "text": [
            "epoch 113:  mean loss: 0.0161  f1 score: 77.01  best: 77.37\n"
          ]
        },
        {
          "output_type": "stream",
          "name": "stderr",
          "text": [
            "100%|██████████| 183/183 [00:08<00:00, 21.50it/s]\n"
          ]
        },
        {
          "output_type": "stream",
          "name": "stdout",
          "text": [
            "epoch 114:  mean loss: 0.0173  f1 score: 76.31  best: 77.37\n"
          ]
        },
        {
          "output_type": "stream",
          "name": "stderr",
          "text": [
            "100%|██████████| 183/183 [00:08<00:00, 21.38it/s]\n"
          ]
        },
        {
          "output_type": "stream",
          "name": "stdout",
          "text": [
            "epoch 115:  mean loss: 0.0193  f1 score: 76.51  best: 77.37\n"
          ]
        },
        {
          "output_type": "stream",
          "name": "stderr",
          "text": [
            "100%|██████████| 183/183 [00:08<00:00, 21.60it/s]\n"
          ]
        },
        {
          "output_type": "stream",
          "name": "stdout",
          "text": [
            "epoch 116:  mean loss: 0.0164  f1 score: 76.17  best: 77.37\n"
          ]
        },
        {
          "output_type": "stream",
          "name": "stderr",
          "text": [
            "100%|██████████| 183/183 [00:08<00:00, 21.33it/s]\n"
          ]
        },
        {
          "output_type": "stream",
          "name": "stdout",
          "text": [
            "epoch 117:  mean loss: 0.0192  f1 score: 76.11  best: 77.37\n"
          ]
        },
        {
          "output_type": "stream",
          "name": "stderr",
          "text": [
            "100%|██████████| 183/183 [00:08<00:00, 21.73it/s]\n"
          ]
        },
        {
          "output_type": "stream",
          "name": "stdout",
          "text": [
            "epoch 118:  mean loss: 0.0199  f1 score: 77.00  best: 77.37\n"
          ]
        },
        {
          "output_type": "stream",
          "name": "stderr",
          "text": [
            "100%|██████████| 183/183 [00:08<00:00, 21.17it/s]\n"
          ]
        },
        {
          "output_type": "stream",
          "name": "stdout",
          "text": [
            "epoch 119:  mean loss: 0.0154  f1 score: 76.96  best: 77.37\n"
          ]
        },
        {
          "output_type": "stream",
          "name": "stderr",
          "text": [
            "100%|██████████| 183/183 [00:08<00:00, 20.94it/s]\n"
          ]
        },
        {
          "output_type": "stream",
          "name": "stdout",
          "text": [
            "epoch 120:  mean loss: 0.0167  f1 score: 76.75  best: 77.37\n"
          ]
        },
        {
          "output_type": "stream",
          "name": "stderr",
          "text": [
            "100%|██████████| 183/183 [00:08<00:00, 20.90it/s]\n"
          ]
        },
        {
          "output_type": "stream",
          "name": "stdout",
          "text": [
            "epoch 121:  mean loss: 0.0161  f1 score: 77.13  best: 77.37\n"
          ]
        },
        {
          "output_type": "stream",
          "name": "stderr",
          "text": [
            "100%|██████████| 183/183 [00:08<00:00, 21.09it/s]\n"
          ]
        },
        {
          "output_type": "stream",
          "name": "stdout",
          "text": [
            "epoch 122:  mean loss: 0.0175  f1 score: 76.38  best: 77.37\n"
          ]
        },
        {
          "output_type": "stream",
          "name": "stderr",
          "text": [
            "100%|██████████| 183/183 [00:08<00:00, 21.18it/s]\n"
          ]
        },
        {
          "output_type": "stream",
          "name": "stdout",
          "text": [
            "epoch 123:  mean loss: 0.0180  f1 score: 76.86  best: 77.37\n"
          ]
        },
        {
          "output_type": "stream",
          "name": "stderr",
          "text": [
            "100%|██████████| 183/183 [00:08<00:00, 21.72it/s]\n"
          ]
        },
        {
          "output_type": "stream",
          "name": "stdout",
          "text": [
            "epoch 124:  mean loss: 0.0165  f1 score: 76.59  best: 77.37\n"
          ]
        },
        {
          "output_type": "stream",
          "name": "stderr",
          "text": [
            "100%|██████████| 183/183 [00:08<00:00, 21.44it/s]\n"
          ]
        },
        {
          "output_type": "stream",
          "name": "stdout",
          "text": [
            "epoch 125:  mean loss: 0.0196  f1 score: 76.44  best: 77.37\n"
          ]
        },
        {
          "output_type": "stream",
          "name": "stderr",
          "text": [
            "100%|██████████| 183/183 [00:08<00:00, 20.88it/s]\n"
          ]
        },
        {
          "output_type": "stream",
          "name": "stdout",
          "text": [
            "epoch 126:  mean loss: 0.0181  f1 score: 75.62  best: 77.37\n"
          ]
        },
        {
          "output_type": "stream",
          "name": "stderr",
          "text": [
            "100%|██████████| 183/183 [00:08<00:00, 21.17it/s]\n"
          ]
        },
        {
          "output_type": "stream",
          "name": "stdout",
          "text": [
            "epoch 127:  mean loss: 0.0241  f1 score: 76.77  best: 77.37\n"
          ]
        },
        {
          "output_type": "stream",
          "name": "stderr",
          "text": [
            "100%|██████████| 183/183 [00:08<00:00, 21.60it/s]\n"
          ]
        },
        {
          "output_type": "stream",
          "name": "stdout",
          "text": [
            "epoch 128:  mean loss: 0.0199  f1 score: 76.94  best: 77.37\n"
          ]
        },
        {
          "output_type": "stream",
          "name": "stderr",
          "text": [
            "100%|██████████| 183/183 [00:08<00:00, 21.32it/s]\n"
          ]
        },
        {
          "output_type": "stream",
          "name": "stdout",
          "text": [
            "epoch 129:  mean loss: 0.0162  f1 score: 76.81  best: 77.37\n"
          ]
        },
        {
          "output_type": "stream",
          "name": "stderr",
          "text": [
            "100%|██████████| 183/183 [00:08<00:00, 21.47it/s]\n"
          ]
        },
        {
          "output_type": "stream",
          "name": "stdout",
          "text": [
            "epoch 130:  mean loss: 0.0132  f1 score: 76.76  best: 77.37\n"
          ]
        },
        {
          "output_type": "stream",
          "name": "stderr",
          "text": [
            "100%|██████████| 183/183 [00:08<00:00, 21.23it/s]\n"
          ]
        },
        {
          "output_type": "stream",
          "name": "stdout",
          "text": [
            "epoch 131:  mean loss: 0.0152  f1 score: 77.30  best: 77.37\n"
          ]
        },
        {
          "output_type": "stream",
          "name": "stderr",
          "text": [
            "100%|██████████| 183/183 [00:08<00:00, 21.38it/s]\n"
          ]
        },
        {
          "output_type": "stream",
          "name": "stdout",
          "text": [
            "epoch 132:  mean loss: 0.0145  f1 score: 76.82  best: 77.37\n"
          ]
        },
        {
          "output_type": "stream",
          "name": "stderr",
          "text": [
            "100%|██████████| 183/183 [00:08<00:00, 21.04it/s]\n"
          ]
        },
        {
          "output_type": "stream",
          "name": "stdout",
          "text": [
            "epoch 133:  mean loss: 0.0121  f1 score: 77.12  best: 77.37\n"
          ]
        },
        {
          "output_type": "stream",
          "name": "stderr",
          "text": [
            "100%|██████████| 183/183 [00:08<00:00, 21.22it/s]\n"
          ]
        },
        {
          "output_type": "stream",
          "name": "stdout",
          "text": [
            "epoch 134:  mean loss: 0.0135  f1 score: 76.84  best: 77.37\n"
          ]
        },
        {
          "output_type": "stream",
          "name": "stderr",
          "text": [
            "100%|██████████| 183/183 [00:08<00:00, 21.17it/s]\n"
          ]
        },
        {
          "output_type": "stream",
          "name": "stdout",
          "text": [
            "epoch 135:  mean loss: 0.0131  f1 score: 77.08  best: 77.37\n"
          ]
        },
        {
          "output_type": "stream",
          "name": "stderr",
          "text": [
            "100%|██████████| 183/183 [00:08<00:00, 21.26it/s]\n"
          ]
        },
        {
          "output_type": "stream",
          "name": "stdout",
          "text": [
            "epoch 136:  mean loss: 0.0157  f1 score: 77.15  best: 77.37\n"
          ]
        },
        {
          "output_type": "stream",
          "name": "stderr",
          "text": [
            "100%|██████████| 183/183 [00:08<00:00, 21.25it/s]\n"
          ]
        },
        {
          "output_type": "stream",
          "name": "stdout",
          "text": [
            "epoch 137:  mean loss: 0.0149  f1 score: 76.97  best: 77.37\n"
          ]
        },
        {
          "output_type": "stream",
          "name": "stderr",
          "text": [
            "100%|██████████| 183/183 [00:08<00:00, 21.45it/s]\n"
          ]
        },
        {
          "output_type": "stream",
          "name": "stdout",
          "text": [
            "epoch 138:  mean loss: 0.0133  f1 score: 76.81  best: 77.37\n"
          ]
        },
        {
          "output_type": "stream",
          "name": "stderr",
          "text": [
            "100%|██████████| 183/183 [00:08<00:00, 21.14it/s]\n"
          ]
        },
        {
          "output_type": "stream",
          "name": "stdout",
          "text": [
            "epoch 139:  mean loss: 0.0162  f1 score: 76.79  best: 77.37\n"
          ]
        },
        {
          "output_type": "stream",
          "name": "stderr",
          "text": [
            "100%|██████████| 183/183 [00:08<00:00, 21.44it/s]\n"
          ]
        },
        {
          "output_type": "stream",
          "name": "stdout",
          "text": [
            "epoch 140:  mean loss: 0.0187  f1 score: 76.58  best: 77.37\n"
          ]
        },
        {
          "output_type": "stream",
          "name": "stderr",
          "text": [
            "100%|██████████| 183/183 [00:08<00:00, 21.29it/s]\n"
          ]
        },
        {
          "output_type": "stream",
          "name": "stdout",
          "text": [
            "epoch 141:  mean loss: 0.0167  f1 score: 77.27  best: 77.37\n"
          ]
        },
        {
          "output_type": "stream",
          "name": "stderr",
          "text": [
            "100%|██████████| 183/183 [00:08<00:00, 21.59it/s]\n"
          ]
        },
        {
          "output_type": "stream",
          "name": "stdout",
          "text": [
            "epoch 142:  mean loss: 0.0181  f1 score: 77.20  best: 77.37\n"
          ]
        },
        {
          "output_type": "stream",
          "name": "stderr",
          "text": [
            "100%|██████████| 183/183 [00:08<00:00, 21.47it/s]\n"
          ]
        },
        {
          "output_type": "stream",
          "name": "stdout",
          "text": [
            "epoch 143:  mean loss: 0.0147  f1 score: 77.51  best: 77.51\n"
          ]
        },
        {
          "output_type": "stream",
          "name": "stderr",
          "text": [
            "100%|██████████| 183/183 [00:08<00:00, 21.29it/s]\n"
          ]
        },
        {
          "output_type": "stream",
          "name": "stdout",
          "text": [
            "epoch 144:  mean loss: 0.0147  f1 score: 76.96  best: 77.51\n"
          ]
        },
        {
          "output_type": "stream",
          "name": "stderr",
          "text": [
            "100%|██████████| 183/183 [00:08<00:00, 21.23it/s]\n"
          ]
        },
        {
          "output_type": "stream",
          "name": "stdout",
          "text": [
            "epoch 145:  mean loss: 0.0152  f1 score: 77.20  best: 77.51\n"
          ]
        },
        {
          "output_type": "stream",
          "name": "stderr",
          "text": [
            "100%|██████████| 183/183 [00:08<00:00, 20.95it/s]\n"
          ]
        },
        {
          "output_type": "stream",
          "name": "stdout",
          "text": [
            "epoch 146:  mean loss: 0.0193  f1 score: 77.01  best: 77.51\n"
          ]
        },
        {
          "output_type": "stream",
          "name": "stderr",
          "text": [
            "100%|██████████| 183/183 [00:08<00:00, 21.18it/s]\n"
          ]
        },
        {
          "output_type": "stream",
          "name": "stdout",
          "text": [
            "epoch 147:  mean loss: 0.0158  f1 score: 77.02  best: 77.51\n"
          ]
        },
        {
          "output_type": "stream",
          "name": "stderr",
          "text": [
            "100%|██████████| 183/183 [00:08<00:00, 21.57it/s]\n"
          ]
        },
        {
          "output_type": "stream",
          "name": "stdout",
          "text": [
            "epoch 148:  mean loss: 0.0126  f1 score: 77.14  best: 77.51\n"
          ]
        },
        {
          "output_type": "stream",
          "name": "stderr",
          "text": [
            "100%|██████████| 183/183 [00:08<00:00, 21.28it/s]\n"
          ]
        },
        {
          "output_type": "stream",
          "name": "stdout",
          "text": [
            "epoch 149:  mean loss: 0.0133  f1 score: 77.31  best: 77.51\n"
          ]
        },
        {
          "output_type": "stream",
          "name": "stderr",
          "text": [
            "100%|██████████| 183/183 [00:08<00:00, 21.41it/s]\n"
          ]
        },
        {
          "output_type": "stream",
          "name": "stdout",
          "text": [
            "epoch 150:  mean loss: 0.0147  f1 score: 77.05  best: 77.51\n"
          ]
        },
        {
          "output_type": "stream",
          "name": "stderr",
          "text": [
            "100%|██████████| 183/183 [00:08<00:00, 21.30it/s]\n"
          ]
        },
        {
          "output_type": "stream",
          "name": "stdout",
          "text": [
            "epoch 151:  mean loss: 0.0122  f1 score: 77.52  best: 77.52\n"
          ]
        },
        {
          "output_type": "stream",
          "name": "stderr",
          "text": [
            "100%|██████████| 183/183 [00:08<00:00, 21.60it/s]\n"
          ]
        },
        {
          "output_type": "stream",
          "name": "stdout",
          "text": [
            "epoch 152:  mean loss: 0.0166  f1 score: 77.09  best: 77.52\n"
          ]
        },
        {
          "output_type": "stream",
          "name": "stderr",
          "text": [
            "100%|██████████| 183/183 [00:08<00:00, 21.30it/s]\n"
          ]
        },
        {
          "output_type": "stream",
          "name": "stdout",
          "text": [
            "epoch 153:  mean loss: 0.0155  f1 score: 76.95  best: 77.52\n"
          ]
        },
        {
          "output_type": "stream",
          "name": "stderr",
          "text": [
            "100%|██████████| 183/183 [00:08<00:00, 21.22it/s]\n"
          ]
        },
        {
          "output_type": "stream",
          "name": "stdout",
          "text": [
            "epoch 154:  mean loss: 0.0150  f1 score: 77.16  best: 77.52\n"
          ]
        },
        {
          "output_type": "stream",
          "name": "stderr",
          "text": [
            "100%|██████████| 183/183 [00:08<00:00, 21.08it/s]\n"
          ]
        },
        {
          "output_type": "stream",
          "name": "stdout",
          "text": [
            "epoch 155:  mean loss: 0.0164  f1 score: 76.79  best: 77.52\n"
          ]
        },
        {
          "output_type": "stream",
          "name": "stderr",
          "text": [
            "100%|██████████| 183/183 [00:08<00:00, 21.33it/s]\n"
          ]
        },
        {
          "output_type": "stream",
          "name": "stdout",
          "text": [
            "epoch 156:  mean loss: 0.0119  f1 score: 77.09  best: 77.52\n"
          ]
        },
        {
          "output_type": "stream",
          "name": "stderr",
          "text": [
            "100%|██████████| 183/183 [00:08<00:00, 21.42it/s]\n"
          ]
        },
        {
          "output_type": "stream",
          "name": "stdout",
          "text": [
            "epoch 157:  mean loss: 0.0112  f1 score: 77.35  best: 77.52\n"
          ]
        },
        {
          "output_type": "stream",
          "name": "stderr",
          "text": [
            "100%|██████████| 183/183 [00:08<00:00, 21.40it/s]\n"
          ]
        },
        {
          "output_type": "stream",
          "name": "stdout",
          "text": [
            "epoch 158:  mean loss: 0.0142  f1 score: 76.95  best: 77.52\n"
          ]
        },
        {
          "output_type": "stream",
          "name": "stderr",
          "text": [
            "100%|██████████| 183/183 [00:08<00:00, 21.14it/s]\n"
          ]
        },
        {
          "output_type": "stream",
          "name": "stdout",
          "text": [
            "epoch 159:  mean loss: 0.0138  f1 score: 76.76  best: 77.52\n"
          ]
        },
        {
          "output_type": "stream",
          "name": "stderr",
          "text": [
            "100%|██████████| 183/183 [00:08<00:00, 20.72it/s]\n"
          ]
        },
        {
          "output_type": "stream",
          "name": "stdout",
          "text": [
            "epoch 160:  mean loss: 0.0174  f1 score: 75.98  best: 77.52\n"
          ]
        },
        {
          "output_type": "stream",
          "name": "stderr",
          "text": [
            "100%|██████████| 183/183 [00:08<00:00, 21.50it/s]\n"
          ]
        },
        {
          "output_type": "stream",
          "name": "stdout",
          "text": [
            "epoch 161:  mean loss: 0.0164  f1 score: 76.48  best: 77.52\n"
          ]
        },
        {
          "output_type": "stream",
          "name": "stderr",
          "text": [
            "100%|██████████| 183/183 [00:08<00:00, 21.55it/s]\n"
          ]
        },
        {
          "output_type": "stream",
          "name": "stdout",
          "text": [
            "epoch 162:  mean loss: 0.0124  f1 score: 76.62  best: 77.52\n"
          ]
        },
        {
          "output_type": "stream",
          "name": "stderr",
          "text": [
            "100%|██████████| 183/183 [00:08<00:00, 20.98it/s]\n"
          ]
        },
        {
          "output_type": "stream",
          "name": "stdout",
          "text": [
            "epoch 163:  mean loss: 0.0135  f1 score: 76.92  best: 77.52\n"
          ]
        },
        {
          "output_type": "stream",
          "name": "stderr",
          "text": [
            "100%|██████████| 183/183 [00:08<00:00, 21.53it/s]\n"
          ]
        },
        {
          "output_type": "stream",
          "name": "stdout",
          "text": [
            "epoch 164:  mean loss: 0.0147  f1 score: 76.69  best: 77.52\n"
          ]
        },
        {
          "output_type": "stream",
          "name": "stderr",
          "text": [
            "100%|██████████| 183/183 [00:08<00:00, 21.30it/s]\n"
          ]
        },
        {
          "output_type": "stream",
          "name": "stdout",
          "text": [
            "epoch 165:  mean loss: 0.0137  f1 score: 76.52  best: 77.52\n"
          ]
        },
        {
          "output_type": "stream",
          "name": "stderr",
          "text": [
            "100%|██████████| 183/183 [00:08<00:00, 21.34it/s]\n"
          ]
        },
        {
          "output_type": "stream",
          "name": "stdout",
          "text": [
            "epoch 166:  mean loss: 0.0141  f1 score: 76.36  best: 77.52\n"
          ]
        },
        {
          "output_type": "stream",
          "name": "stderr",
          "text": [
            "100%|██████████| 183/183 [00:08<00:00, 21.27it/s]\n"
          ]
        },
        {
          "output_type": "stream",
          "name": "stdout",
          "text": [
            "epoch 167:  mean loss: 0.0117  f1 score: 76.35  best: 77.52\n"
          ]
        },
        {
          "output_type": "stream",
          "name": "stderr",
          "text": [
            "100%|██████████| 183/183 [00:08<00:00, 21.32it/s]\n"
          ]
        },
        {
          "output_type": "stream",
          "name": "stdout",
          "text": [
            "epoch 168:  mean loss: 0.0141  f1 score: 76.79  best: 77.52\n"
          ]
        },
        {
          "output_type": "stream",
          "name": "stderr",
          "text": [
            "100%|██████████| 183/183 [00:08<00:00, 21.40it/s]\n"
          ]
        },
        {
          "output_type": "stream",
          "name": "stdout",
          "text": [
            "epoch 169:  mean loss: 0.0142  f1 score: 76.53  best: 77.52\n"
          ]
        },
        {
          "output_type": "stream",
          "name": "stderr",
          "text": [
            "100%|██████████| 183/183 [00:08<00:00, 21.23it/s]\n"
          ]
        },
        {
          "output_type": "stream",
          "name": "stdout",
          "text": [
            "epoch 170:  mean loss: 0.0132  f1 score: 76.25  best: 77.52\n"
          ]
        },
        {
          "output_type": "stream",
          "name": "stderr",
          "text": [
            "100%|██████████| 183/183 [00:08<00:00, 21.15it/s]\n"
          ]
        },
        {
          "output_type": "stream",
          "name": "stdout",
          "text": [
            "epoch 171:  mean loss: 0.0171  f1 score: 77.00  best: 77.52\n"
          ]
        },
        {
          "output_type": "stream",
          "name": "stderr",
          "text": [
            "100%|██████████| 183/183 [00:08<00:00, 21.30it/s]\n"
          ]
        },
        {
          "output_type": "stream",
          "name": "stdout",
          "text": [
            "epoch 172:  mean loss: 0.0147  f1 score: 76.27  best: 77.52\n"
          ]
        },
        {
          "output_type": "stream",
          "name": "stderr",
          "text": [
            "100%|██████████| 183/183 [00:08<00:00, 21.22it/s]\n"
          ]
        },
        {
          "output_type": "stream",
          "name": "stdout",
          "text": [
            "epoch 173:  mean loss: 0.0155  f1 score: 76.63  best: 77.52\n"
          ]
        },
        {
          "output_type": "stream",
          "name": "stderr",
          "text": [
            "100%|██████████| 183/183 [00:08<00:00, 21.07it/s]\n"
          ]
        },
        {
          "output_type": "stream",
          "name": "stdout",
          "text": [
            "epoch 174:  mean loss: 0.0134  f1 score: 76.31  best: 77.52\n"
          ]
        },
        {
          "output_type": "stream",
          "name": "stderr",
          "text": [
            "100%|██████████| 183/183 [00:08<00:00, 21.84it/s]\n"
          ]
        },
        {
          "output_type": "stream",
          "name": "stdout",
          "text": [
            "epoch 175:  mean loss: 0.0141  f1 score: 76.85  best: 77.52\n"
          ]
        },
        {
          "output_type": "stream",
          "name": "stderr",
          "text": [
            "100%|██████████| 183/183 [00:08<00:00, 21.33it/s]\n"
          ]
        },
        {
          "output_type": "stream",
          "name": "stdout",
          "text": [
            "epoch 176:  mean loss: 0.0129  f1 score: 76.82  best: 77.52\n"
          ]
        },
        {
          "output_type": "stream",
          "name": "stderr",
          "text": [
            "100%|██████████| 183/183 [00:08<00:00, 21.03it/s]\n"
          ]
        },
        {
          "output_type": "stream",
          "name": "stdout",
          "text": [
            "epoch 177:  mean loss: 0.0119  f1 score: 76.27  best: 77.52\n"
          ]
        },
        {
          "output_type": "stream",
          "name": "stderr",
          "text": [
            "100%|██████████| 183/183 [00:08<00:00, 21.12it/s]\n"
          ]
        },
        {
          "output_type": "stream",
          "name": "stdout",
          "text": [
            "epoch 178:  mean loss: 0.0124  f1 score: 76.26  best: 77.52\n"
          ]
        },
        {
          "output_type": "stream",
          "name": "stderr",
          "text": [
            "100%|██████████| 183/183 [00:08<00:00, 21.08it/s]\n"
          ]
        },
        {
          "output_type": "stream",
          "name": "stdout",
          "text": [
            "epoch 179:  mean loss: 0.0150  f1 score: 76.20  best: 77.52\n"
          ]
        },
        {
          "output_type": "stream",
          "name": "stderr",
          "text": [
            "100%|██████████| 183/183 [00:08<00:00, 21.10it/s]\n"
          ]
        },
        {
          "output_type": "stream",
          "name": "stdout",
          "text": [
            "epoch 180:  mean loss: 0.0127  f1 score: 76.24  best: 77.52\n"
          ]
        },
        {
          "output_type": "stream",
          "name": "stderr",
          "text": [
            "100%|██████████| 183/183 [00:08<00:00, 21.32it/s]\n"
          ]
        },
        {
          "output_type": "stream",
          "name": "stdout",
          "text": [
            "epoch 181:  mean loss: 0.0127  f1 score: 76.49  best: 77.52\n"
          ]
        },
        {
          "output_type": "stream",
          "name": "stderr",
          "text": [
            "100%|██████████| 183/183 [00:08<00:00, 21.13it/s]\n"
          ]
        },
        {
          "output_type": "stream",
          "name": "stdout",
          "text": [
            "epoch 182:  mean loss: 0.0131  f1 score: 76.44  best: 77.52\n"
          ]
        },
        {
          "output_type": "stream",
          "name": "stderr",
          "text": [
            "100%|██████████| 183/183 [00:08<00:00, 21.34it/s]\n"
          ]
        },
        {
          "output_type": "stream",
          "name": "stdout",
          "text": [
            "epoch 183:  mean loss: 0.0114  f1 score: 76.82  best: 77.52\n"
          ]
        },
        {
          "output_type": "stream",
          "name": "stderr",
          "text": [
            "100%|██████████| 183/183 [00:08<00:00, 21.46it/s]\n"
          ]
        },
        {
          "output_type": "stream",
          "name": "stdout",
          "text": [
            "epoch 184:  mean loss: 0.0133  f1 score: 77.28  best: 77.52\n"
          ]
        },
        {
          "output_type": "stream",
          "name": "stderr",
          "text": [
            "100%|██████████| 183/183 [00:08<00:00, 21.03it/s]\n"
          ]
        },
        {
          "output_type": "stream",
          "name": "stdout",
          "text": [
            "epoch 185:  mean loss: 0.0115  f1 score: 76.80  best: 77.52\n"
          ]
        },
        {
          "output_type": "stream",
          "name": "stderr",
          "text": [
            "100%|██████████| 183/183 [00:08<00:00, 20.95it/s]\n"
          ]
        },
        {
          "output_type": "stream",
          "name": "stdout",
          "text": [
            "epoch 186:  mean loss: 0.0129  f1 score: 76.72  best: 77.52\n"
          ]
        },
        {
          "output_type": "stream",
          "name": "stderr",
          "text": [
            "100%|██████████| 183/183 [00:08<00:00, 20.92it/s]\n"
          ]
        },
        {
          "output_type": "stream",
          "name": "stdout",
          "text": [
            "epoch 187:  mean loss: 0.0109  f1 score: 76.78  best: 77.52\n"
          ]
        },
        {
          "output_type": "stream",
          "name": "stderr",
          "text": [
            "100%|██████████| 183/183 [00:08<00:00, 21.38it/s]\n"
          ]
        },
        {
          "output_type": "stream",
          "name": "stdout",
          "text": [
            "epoch 188:  mean loss: 0.0111  f1 score: 76.42  best: 77.52\n"
          ]
        },
        {
          "output_type": "stream",
          "name": "stderr",
          "text": [
            "100%|██████████| 183/183 [00:08<00:00, 20.98it/s]\n"
          ]
        },
        {
          "output_type": "stream",
          "name": "stdout",
          "text": [
            "epoch 189:  mean loss: 0.0146  f1 score: 75.76  best: 77.52\n"
          ]
        },
        {
          "output_type": "stream",
          "name": "stderr",
          "text": [
            "100%|██████████| 183/183 [00:08<00:00, 21.24it/s]\n"
          ]
        },
        {
          "output_type": "stream",
          "name": "stdout",
          "text": [
            "epoch 190:  mean loss: 0.0125  f1 score: 76.37  best: 77.52\n"
          ]
        },
        {
          "output_type": "stream",
          "name": "stderr",
          "text": [
            "100%|██████████| 183/183 [00:08<00:00, 20.86it/s]\n"
          ]
        },
        {
          "output_type": "stream",
          "name": "stdout",
          "text": [
            "epoch 191:  mean loss: 0.0156  f1 score: 76.06  best: 77.52\n"
          ]
        },
        {
          "output_type": "stream",
          "name": "stderr",
          "text": [
            "100%|██████████| 183/183 [00:08<00:00, 21.14it/s]\n"
          ]
        },
        {
          "output_type": "stream",
          "name": "stdout",
          "text": [
            "epoch 192:  mean loss: 0.0127  f1 score: 76.38  best: 77.52\n"
          ]
        },
        {
          "output_type": "stream",
          "name": "stderr",
          "text": [
            "100%|██████████| 183/183 [00:08<00:00, 21.17it/s]\n"
          ]
        },
        {
          "output_type": "stream",
          "name": "stdout",
          "text": [
            "epoch 193:  mean loss: 0.0129  f1 score: 77.06  best: 77.52\n"
          ]
        },
        {
          "output_type": "stream",
          "name": "stderr",
          "text": [
            "100%|██████████| 183/183 [00:08<00:00, 21.56it/s]\n"
          ]
        },
        {
          "output_type": "stream",
          "name": "stdout",
          "text": [
            "epoch 194:  mean loss: 0.0117  f1 score: 77.14  best: 77.52\n"
          ]
        },
        {
          "output_type": "stream",
          "name": "stderr",
          "text": [
            "100%|██████████| 183/183 [00:08<00:00, 21.59it/s]\n"
          ]
        },
        {
          "output_type": "stream",
          "name": "stdout",
          "text": [
            "epoch 195:  mean loss: 0.0145  f1 score: 76.76  best: 77.52\n"
          ]
        },
        {
          "output_type": "stream",
          "name": "stderr",
          "text": [
            "100%|██████████| 183/183 [00:08<00:00, 21.26it/s]\n"
          ]
        },
        {
          "output_type": "stream",
          "name": "stdout",
          "text": [
            "epoch 196:  mean loss: 0.0129  f1 score: 76.31  best: 77.52\n"
          ]
        },
        {
          "output_type": "stream",
          "name": "stderr",
          "text": [
            "100%|██████████| 183/183 [00:08<00:00, 21.48it/s]\n"
          ]
        },
        {
          "output_type": "stream",
          "name": "stdout",
          "text": [
            "epoch 197:  mean loss: 0.0129  f1 score: 76.92  best: 77.52\n"
          ]
        },
        {
          "output_type": "stream",
          "name": "stderr",
          "text": [
            "100%|██████████| 183/183 [00:08<00:00, 21.35it/s]\n"
          ]
        },
        {
          "output_type": "stream",
          "name": "stdout",
          "text": [
            "epoch 198:  mean loss: 0.0120  f1 score: 76.38  best: 77.52\n"
          ]
        },
        {
          "output_type": "stream",
          "name": "stderr",
          "text": [
            "100%|██████████| 183/183 [00:08<00:00, 21.47it/s]\n"
          ]
        },
        {
          "output_type": "stream",
          "name": "stdout",
          "text": [
            "epoch 199:  mean loss: 0.0136  f1 score: 76.62  best: 77.52\n"
          ]
        },
        {
          "output_type": "display_data",
          "data": {
            "text/plain": [
              "<Figure size 432x288 with 1 Axes>"
            ],
            "image/png": "[encoded data removed]"
          },
          "metadata": {
            "needs_background": "light"
          }
        }
      ],
      "source": [
        "import re\n",
        "\n",
        "\n",
        "import matplotlib.pyplot as plt\n",
        "\n",
        "def my_plot(epochs, datalist):\n",
        "    plt.plot(epochs, datalist)\n",
        "    # Add title and axis names\n",
        "    plt.title('Mean Loss by Epochs')\n",
        "    plt.xlabel('Epochs')\n",
        "    plt.ylabel('Mean Loss') \n",
        "    #legend = plt.legend(loc='upper right')\n",
        "    plt.show()\n",
        "\n",
        "\n",
        "\n",
        "BATCH_SIZE=64\n",
        "LR=0.001\n",
        "CLIP=5.\n",
        "num_epochs = 200\n",
        "train_dataset=I2B2DatasetReader('./datafiles/train.txt',dictionary(),dictionary(),training=True)\n",
        "train_dataset.dic_word,word2emb=augment_vocab(train_dataset.dic_word,\"datafiles/glove.6B.300d.txt\",['./datafiles/dev.txt','./datafiles/test.txt'])\n",
        "dev_dataset=I2B2DatasetReader('./datafiles/dev.txt',train_dataset.dic_word,train_dataset.dic_char)\n",
        "test_dataset=I2B2DatasetReader('./datafiles/test.txt',train_dataset.dic_word,train_dataset.dic_char)\n",
        "\n",
        "train_loader=DataLoader(train_dataset,BATCH_SIZE,shuffle=True,num_workers=2,collate_fn=collate_batch)\n",
        "dev_loader=DataLoader(dev_dataset,BATCH_SIZE,shuffle=False,num_workers=2,collate_fn=collate_batch)\n",
        "test_loader=DataLoader(test_dataset,BATCH_SIZE,shuffle=False,num_workers=2,collate_fn=collate_batch)\n",
        "\n",
        "\n",
        "model = LSTM_CRF(word2emb,train_dataset.dic_word,train_dataset.dic_char).cuda()\n",
        "optimizer=torch.optim.Adam(model.parameters(),LR)\n",
        "precision_list = []\n",
        "accuracy_list = []\n",
        "recall_list = []\n",
        "best_score=0\n",
        "best_f1score_validation = 0\n",
        "loss_vals=  []\n",
        "loss_vals_validation =  []\n",
        "for epoch in range(num_epochs):\n",
        "    model.train()\n",
        "    epoch_loss=[]\n",
        "    pbar=tqdm(total=len(train_loader))\n",
        "    for i,(word_num,word_ids,char_ids,label_ids) in enumerate(train_loader):\n",
        "        loss=model(word_num.cuda(),word_ids.cuda(),char_ids.cuda(),label_ids.cuda())\n",
        "        optimizer.zero_grad()\n",
        "        loss.backward()\n",
        "        #nn.utils.clip_grad_norm_(lstm_crf.parameters(),CLIP)\n",
        "        optimizer.step()\n",
        "        epoch_loss.append(loss.item())\n",
        "        pbar.update(1)\n",
        "    pbar.close()\n",
        "    loss_vals.append(sum(epoch_loss)/len(epoch_loss))\n",
        "    mean_loss=torch.mean(torch.tensor(epoch_loss)).item()\n",
        "   \n",
        "\n",
        "    model.eval()\n",
        "    f1_score=0\n",
        "\n",
        "    \n",
        "    #for loader in (test_loader):\n",
        "    testloader=test_loader\n",
        "\n",
        "    outputs=[]\n",
        "    for i,(word_num,word_ids,char_ids,label_ids) in enumerate(testloader):\n",
        "        word_num,word_ids,char_ids,label_ids=word_num.cuda(),word_ids.cuda(),char_ids.cuda(),label_ids.cuda()\n",
        "        pred=model.decode(word_num,word_ids,char_ids)\n",
        "        outputs+=list_batch(pred,word_num,word_ids,label_ids, train_dataset.dic_word, train_dataset.label_map)\n",
        "\n",
        "    f=open('outputs.txt','w',encoding='utf-8')\n",
        "    f.write('\\n'.join(outputs))\n",
        "    f.close()\n",
        "    \n",
        "    os.system(\"python -m conlleval outputs.txt > results\")\n",
        "    #os.system(\"./conlleval < outputs.txt > results\")\n",
        "    f=open('results','r',encoding='utf-8')\n",
        "    \n",
        "    elems = re.split('[:;]+', f.readlines()[1])\n",
        "    f1_score=float(elems[7])\n",
        "    # recall_list.append(elems[5])\n",
        "    # precision_list.append(elems[3])\n",
        "    # accuracy_list.append(elems[1])\n",
        "    f.close()\n",
        "    best_score=max(best_score,f1_score)\n",
        "    #print('epoch %d:  mean accuracy: %.4f  mean precision: %.2f  mean recall: %.2f'%(epoch,mean_accuracy,mean_precision,mean_recall))\n",
        "\n",
        "    print('epoch %d:  mean loss: %.4f  f1 score: %.2f  best: %.2f'%(epoch,mean_loss,f1_score,best_score))\n",
        "\n",
        "my_plot(np.linspace(1, num_epochs, num_epochs).astype(int), loss_vals)"
      ]
    }
  ],
  "metadata": {
    "accelerator": "GPU",
    "colab": {
      "collapsed_sections": [],
      "name": "CS598FIRSTDRAFTFinalProjet.ipynb",
      "provenance": [],
      "authorship_tag": "ABX9TyPhiwjfke/Luy9wMfQwCnLV",
      "include_colab_link": true
    },
    "kernelspec": {
      "display_name": "Python 3",
      "name": "python3"
    },
    "language_info": {
      "name": "python"
    }
  },
  "nbformat": 4,
  "nbformat_minor": 0
}